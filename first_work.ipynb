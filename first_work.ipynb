{
  "cells": [
    {
      "cell_type": "markdown",
      "metadata": {
        "id": "view-in-github",
        "colab_type": "text"
      },
      "source": [
        "<a href=\"https://colab.research.google.com/github/pof1423/Socar-bootcamp/blob/main/first_work.ipynb\" target=\"_parent\"><img src=\"https://colab.research.google.com/assets/colab-badge.svg\" alt=\"Open In Colab\"/></a>"
      ]
    },
    {
      "cell_type": "code",
      "execution_count": null,
      "metadata": {
        "id": "Z5t0z4Kjuu8g"
      },
      "outputs": [],
      "source": [
        "import pandas as pd\n",
        "import numpy as np\n",
        "import matplotlib.pyplot as plt\n",
        "%matplotlib inline\n",
        "import sklearn\n",
        "from sklearn.metrics import mean_squared_error\n",
        "from sklearn.metrics import mean_absolute_error"
      ]
    },
    {
      "cell_type": "code",
      "execution_count": null,
      "metadata": {
        "id": "7xYToUXOuu8k",
        "outputId": "c99eee21-41b1-45f5-a0c4-027982ad8e68"
      },
      "outputs": [
        {
          "name": "stdout",
          "output_type": "stream",
          "text": [
            "Index(['ATA', 'id', 'api_eta', 'created_at_kst', 'month', 'pickup_lng',\n",
            "       'pickup_lat', 'pickup_gu', 'driver_id', 'driver_lng', 'driver_lat',\n",
            "       'hour'],\n",
            "      dtype='object')\n"
          ]
        },
        {
          "data": {
            "text/html": [
              "<div>\n",
              "<style scoped>\n",
              "    .dataframe tbody tr th:only-of-type {\n",
              "        vertical-align: middle;\n",
              "    }\n",
              "\n",
              "    .dataframe tbody tr th {\n",
              "        vertical-align: top;\n",
              "    }\n",
              "\n",
              "    .dataframe thead th {\n",
              "        text-align: right;\n",
              "    }\n",
              "</style>\n",
              "<table border=\"1\" class=\"dataframe\">\n",
              "  <thead>\n",
              "    <tr style=\"text-align: right;\">\n",
              "      <th></th>\n",
              "      <th>ATA</th>\n",
              "      <th>id</th>\n",
              "      <th>api_eta</th>\n",
              "      <th>created_at_kst</th>\n",
              "      <th>month</th>\n",
              "      <th>pickup_lng</th>\n",
              "      <th>pickup_lat</th>\n",
              "      <th>pickup_gu</th>\n",
              "      <th>driver_id</th>\n",
              "      <th>driver_lng</th>\n",
              "      <th>driver_lat</th>\n",
              "      <th>hour</th>\n",
              "    </tr>\n",
              "  </thead>\n",
              "  <tbody>\n",
              "    <tr>\n",
              "      <th>0</th>\n",
              "      <td>10.60</td>\n",
              "      <td>R4L9FL6NVEL4D0</td>\n",
              "      <td>5.65</td>\n",
              "      <td>2019-12-01T00:55:09</td>\n",
              "      <td>12</td>\n",
              "      <td>127.091399</td>\n",
              "      <td>37.624545</td>\n",
              "      <td>노원구</td>\n",
              "      <td>DST52944</td>\n",
              "      <td>127.069978</td>\n",
              "      <td>37.616472</td>\n",
              "      <td>0</td>\n",
              "    </tr>\n",
              "    <tr>\n",
              "      <th>1</th>\n",
              "      <td>9.20</td>\n",
              "      <td>R3A7JBY7CS6TPD</td>\n",
              "      <td>8.60</td>\n",
              "      <td>2019-12-01T00:09:39</td>\n",
              "      <td>12</td>\n",
              "      <td>127.023351</td>\n",
              "      <td>37.625564</td>\n",
              "      <td>강북구</td>\n",
              "      <td>DPC72995</td>\n",
              "      <td>127.026479</td>\n",
              "      <td>37.604711</td>\n",
              "      <td>0</td>\n",
              "    </tr>\n",
              "    <tr>\n",
              "      <th>2</th>\n",
              "      <td>10.85</td>\n",
              "      <td>R2BIUY1TDK14XE</td>\n",
              "      <td>10.53</td>\n",
              "      <td>2019-12-15T00:18:42</td>\n",
              "      <td>12</td>\n",
              "      <td>126.881154</td>\n",
              "      <td>37.481641</td>\n",
              "      <td>금천구</td>\n",
              "      <td>DPP94923</td>\n",
              "      <td>126.906225</td>\n",
              "      <td>37.452167</td>\n",
              "      <td>0</td>\n",
              "    </tr>\n",
              "    <tr>\n",
              "      <th>3</th>\n",
              "      <td>5.52</td>\n",
              "      <td>R31PU5GNHSGU6C</td>\n",
              "      <td>1.92</td>\n",
              "      <td>2019-07-31T00:24:11</td>\n",
              "      <td>7</td>\n",
              "      <td>126.988375</td>\n",
              "      <td>37.567897</td>\n",
              "      <td>중구</td>\n",
              "      <td>DCT73585</td>\n",
              "      <td>126.991170</td>\n",
              "      <td>37.566416</td>\n",
              "      <td>0</td>\n",
              "    </tr>\n",
              "    <tr>\n",
              "      <th>4</th>\n",
              "      <td>8.60</td>\n",
              "      <td>R41WR6N1VT42DJ</td>\n",
              "      <td>7.10</td>\n",
              "      <td>2019-07-05T00:40:34</td>\n",
              "      <td>7</td>\n",
              "      <td>126.988684</td>\n",
              "      <td>37.566716</td>\n",
              "      <td>중구</td>\n",
              "      <td>DPJ86237</td>\n",
              "      <td>127.006860</td>\n",
              "      <td>37.571164</td>\n",
              "      <td>0</td>\n",
              "    </tr>\n",
              "    <tr>\n",
              "      <th>...</th>\n",
              "      <td>...</td>\n",
              "      <td>...</td>\n",
              "      <td>...</td>\n",
              "      <td>...</td>\n",
              "      <td>...</td>\n",
              "      <td>...</td>\n",
              "      <td>...</td>\n",
              "      <td>...</td>\n",
              "      <td>...</td>\n",
              "      <td>...</td>\n",
              "      <td>...</td>\n",
              "      <td>...</td>\n",
              "    </tr>\n",
              "    <tr>\n",
              "      <th>13911</th>\n",
              "      <td>8.22</td>\n",
              "      <td>R2GDE24ME5JVNW</td>\n",
              "      <td>5.55</td>\n",
              "      <td>2019-12-21T23:20:13</td>\n",
              "      <td>12</td>\n",
              "      <td>126.909651</td>\n",
              "      <td>37.521901</td>\n",
              "      <td>영등포구</td>\n",
              "      <td>DST69352</td>\n",
              "      <td>126.916539</td>\n",
              "      <td>37.527159</td>\n",
              "      <td>23</td>\n",
              "    </tr>\n",
              "    <tr>\n",
              "      <th>13912</th>\n",
              "      <td>1.37</td>\n",
              "      <td>RAS6GH62M4SZH</td>\n",
              "      <td>0.98</td>\n",
              "      <td>2019-07-16T23:41:45</td>\n",
              "      <td>7</td>\n",
              "      <td>126.901157</td>\n",
              "      <td>37.534355</td>\n",
              "      <td>영등포구</td>\n",
              "      <td>DBL73640</td>\n",
              "      <td>126.904703</td>\n",
              "      <td>37.532614</td>\n",
              "      <td>23</td>\n",
              "    </tr>\n",
              "    <tr>\n",
              "      <th>13913</th>\n",
              "      <td>4.22</td>\n",
              "      <td>RRJJ2J7GZIZ6Y</td>\n",
              "      <td>4.15</td>\n",
              "      <td>2019-07-23T23:25:47</td>\n",
              "      <td>7</td>\n",
              "      <td>126.925215</td>\n",
              "      <td>37.524155</td>\n",
              "      <td>영등포구</td>\n",
              "      <td>DRD21655</td>\n",
              "      <td>126.921785</td>\n",
              "      <td>37.521985</td>\n",
              "      <td>23</td>\n",
              "    </tr>\n",
              "    <tr>\n",
              "      <th>13914</th>\n",
              "      <td>4.85</td>\n",
              "      <td>R4NN4WYS6FTWHD</td>\n",
              "      <td>5.38</td>\n",
              "      <td>2019-07-01T23:27:23</td>\n",
              "      <td>7</td>\n",
              "      <td>126.928785</td>\n",
              "      <td>37.528182</td>\n",
              "      <td>영등포구</td>\n",
              "      <td>DMJ83759</td>\n",
              "      <td>126.955591</td>\n",
              "      <td>37.532395</td>\n",
              "      <td>23</td>\n",
              "    </tr>\n",
              "    <tr>\n",
              "      <th>13915</th>\n",
              "      <td>6.98</td>\n",
              "      <td>R2URZZ4ANA0W4O</td>\n",
              "      <td>4.23</td>\n",
              "      <td>2019-12-20T23:44:58</td>\n",
              "      <td>12</td>\n",
              "      <td>126.907094</td>\n",
              "      <td>37.519436</td>\n",
              "      <td>영등포구</td>\n",
              "      <td>DPC12254</td>\n",
              "      <td>126.914478</td>\n",
              "      <td>37.519657</td>\n",
              "      <td>23</td>\n",
              "    </tr>\n",
              "  </tbody>\n",
              "</table>\n",
              "<p>13916 rows × 12 columns</p>\n",
              "</div>"
            ],
            "text/plain": [
              "         ATA              id  api_eta       created_at_kst  month  pickup_lng  \\\n",
              "0      10.60  R4L9FL6NVEL4D0     5.65  2019-12-01T00:55:09     12  127.091399   \n",
              "1       9.20  R3A7JBY7CS6TPD     8.60  2019-12-01T00:09:39     12  127.023351   \n",
              "2      10.85  R2BIUY1TDK14XE    10.53  2019-12-15T00:18:42     12  126.881154   \n",
              "3       5.52  R31PU5GNHSGU6C     1.92  2019-07-31T00:24:11      7  126.988375   \n",
              "4       8.60  R41WR6N1VT42DJ     7.10  2019-07-05T00:40:34      7  126.988684   \n",
              "...      ...             ...      ...                  ...    ...         ...   \n",
              "13911   8.22  R2GDE24ME5JVNW     5.55  2019-12-21T23:20:13     12  126.909651   \n",
              "13912   1.37   RAS6GH62M4SZH     0.98  2019-07-16T23:41:45      7  126.901157   \n",
              "13913   4.22   RRJJ2J7GZIZ6Y     4.15  2019-07-23T23:25:47      7  126.925215   \n",
              "13914   4.85  R4NN4WYS6FTWHD     5.38  2019-07-01T23:27:23      7  126.928785   \n",
              "13915   6.98  R2URZZ4ANA0W4O     4.23  2019-12-20T23:44:58     12  126.907094   \n",
              "\n",
              "       pickup_lat pickup_gu driver_id  driver_lng  driver_lat  hour  \n",
              "0       37.624545       노원구  DST52944  127.069978   37.616472     0  \n",
              "1       37.625564       강북구  DPC72995  127.026479   37.604711     0  \n",
              "2       37.481641       금천구  DPP94923  126.906225   37.452167     0  \n",
              "3       37.567897        중구  DCT73585  126.991170   37.566416     0  \n",
              "4       37.566716        중구  DPJ86237  127.006860   37.571164     0  \n",
              "...           ...       ...       ...         ...         ...   ...  \n",
              "13911   37.521901      영등포구  DST69352  126.916539   37.527159    23  \n",
              "13912   37.534355      영등포구  DBL73640  126.904703   37.532614    23  \n",
              "13913   37.524155      영등포구  DRD21655  126.921785   37.521985    23  \n",
              "13914   37.528182      영등포구  DMJ83759  126.955591   37.532395    23  \n",
              "13915   37.519436      영등포구  DPC12254  126.914478   37.519657    23  \n",
              "\n",
              "[13916 rows x 12 columns]"
            ]
          },
          "execution_count": 40,
          "metadata": {},
          "output_type": "execute_result"
        }
      ],
      "source": [
        "tada_eta = pd.read_excel('C:/Users/doyoung/OneDrive - konkuk.ac.kr/바탕 화면/Python/Chapter 2_실습파일/tada_eta.xlsx')\n",
        "print(tada_eta.columns)\n",
        "tada_eta\n"
      ]
    },
    {
      "cell_type": "code",
      "execution_count": null,
      "metadata": {
        "id": "QLCeWHB6uu8l",
        "outputId": "29e1feec-1989-48b4-9322-12d075d7baf6"
      },
      "outputs": [
        {
          "data": {
            "text/plain": [
              "ATA               0\n",
              "id                0\n",
              "api_eta           0\n",
              "created_at_kst    0\n",
              "month             0\n",
              "pickup_lng        0\n",
              "pickup_lat        0\n",
              "pickup_gu         0\n",
              "driver_id         0\n",
              "driver_lng        0\n",
              "driver_lat        0\n",
              "hour              0\n",
              "dtype: int64"
            ]
          },
          "execution_count": 5,
          "metadata": {},
          "output_type": "execute_result"
        }
      ],
      "source": [
        "is_na = tada_eta.isna().sum(0)\n",
        "is_na"
      ]
    },
    {
      "cell_type": "code",
      "execution_count": null,
      "metadata": {
        "id": "WmSucJl-uu8m",
        "outputId": "81f16b24-35f0-4095-da4c-d3ca135149a5"
      },
      "outputs": [
        {
          "name": "stdout",
          "output_type": "stream",
          "text": [
            "Data type for column ATA is float64.\n",
            "Data type for column id is object.\n",
            "Data type for column api_eta is float64.\n",
            "Data type for column created_at_kst is object.\n",
            "Data type for column month is int64.\n",
            "Data type for column pickup_lng is float64.\n",
            "Data type for column pickup_lat is float64.\n",
            "Data type for column pickup_gu is object.\n",
            "Data type for column driver_id is object.\n",
            "Data type for column driver_lng is float64.\n",
            "Data type for column driver_lat is float64.\n",
            "Data type for column hour is int64.\n"
          ]
        }
      ],
      "source": [
        "for col in tada_eta.columns:\n",
        "  print(f\"Data type for column {col} is {tada_eta[col].dtype}.\")"
      ]
    },
    {
      "cell_type": "code",
      "execution_count": null,
      "metadata": {
        "id": "VArHGwunuu8m"
      },
      "outputs": [],
      "source": [
        "#distance를 위경도로 기반해서 km로 변환\n",
        "x_1 = ((np.cos(tada_eta['pickup_lat']) * 6400 * 2 * np.pi) / 360) * np.absolute(tada_eta['pickup_lng'] - tada_eta['driver_lng'])\n",
        "y_1 = 111 * np.absolute(tada_eta['pickup_lat'] - tada_eta['driver_lat'])\n",
        "tada_eta['distance'] = np.sqrt(x_1**2+y_1**2)"
      ]
    },
    {
      "cell_type": "code",
      "execution_count": null,
      "metadata": {
        "id": "E18gyRdguu8n"
      },
      "outputs": [],
      "source": [
        "from sklearn.preprocessing import LabelEncoder\n",
        "input_labels = ['강남구','강동구','강북구','강서구','관악구','광진구','구로구','금천구','노원구','도봉구','동대문구','동작구','마포구','서대문구','서초구','성동구','성북구','송파구','양천구','영등포구','용산구','은평구','종로구','중구','중랑구']\n",
        "encoder = LabelEncoder()\n",
        "\n",
        "encoder.fit(input_labels)\n",
        "tada_eta['pickup_gu'] = encoder.transform(tada_eta['pickup_gu'])"
      ]
    },
    {
      "cell_type": "code",
      "execution_count": null,
      "metadata": {
        "id": "7R53riLxuu8o"
      },
      "outputs": [],
      "source": [
        "tada_eta = tada_eta.drop(columns=['id','created_at_kst','pickup_lng','pickup_lat','driver_id','driver_lng','driver_lat'])"
      ]
    },
    {
      "cell_type": "code",
      "execution_count": null,
      "metadata": {
        "id": "5qwd274Guu8o",
        "outputId": "809a5b59-e022-431a-ff2a-9feec5eaccd8"
      },
      "outputs": [
        {
          "data": {
            "text/html": [
              "<div>\n",
              "<style scoped>\n",
              "    .dataframe tbody tr th:only-of-type {\n",
              "        vertical-align: middle;\n",
              "    }\n",
              "\n",
              "    .dataframe tbody tr th {\n",
              "        vertical-align: top;\n",
              "    }\n",
              "\n",
              "    .dataframe thead th {\n",
              "        text-align: right;\n",
              "    }\n",
              "</style>\n",
              "<table border=\"1\" class=\"dataframe\">\n",
              "  <thead>\n",
              "    <tr style=\"text-align: right;\">\n",
              "      <th></th>\n",
              "      <th>ATA</th>\n",
              "      <th>api_eta</th>\n",
              "      <th>month</th>\n",
              "      <th>pickup_gu</th>\n",
              "      <th>hour</th>\n",
              "      <th>distance</th>\n",
              "    </tr>\n",
              "  </thead>\n",
              "  <tbody>\n",
              "    <tr>\n",
              "      <th>0</th>\n",
              "      <td>10.60</td>\n",
              "      <td>5.65</td>\n",
              "      <td>12</td>\n",
              "      <td>8</td>\n",
              "      <td>0</td>\n",
              "      <td>2.548743</td>\n",
              "    </tr>\n",
              "    <tr>\n",
              "      <th>1</th>\n",
              "      <td>9.20</td>\n",
              "      <td>8.60</td>\n",
              "      <td>12</td>\n",
              "      <td>2</td>\n",
              "      <td>0</td>\n",
              "      <td>2.340836</td>\n",
              "    </tr>\n",
              "    <tr>\n",
              "      <th>2</th>\n",
              "      <td>10.85</td>\n",
              "      <td>10.53</td>\n",
              "      <td>12</td>\n",
              "      <td>7</td>\n",
              "      <td>0</td>\n",
              "      <td>4.263972</td>\n",
              "    </tr>\n",
              "    <tr>\n",
              "      <th>3</th>\n",
              "      <td>5.52</td>\n",
              "      <td>1.92</td>\n",
              "      <td>7</td>\n",
              "      <td>23</td>\n",
              "      <td>0</td>\n",
              "      <td>0.350467</td>\n",
              "    </tr>\n",
              "    <tr>\n",
              "      <th>4</th>\n",
              "      <td>8.60</td>\n",
              "      <td>7.10</td>\n",
              "      <td>7</td>\n",
              "      <td>23</td>\n",
              "      <td>0</td>\n",
              "      <td>2.072178</td>\n",
              "    </tr>\n",
              "    <tr>\n",
              "      <th>...</th>\n",
              "      <td>...</td>\n",
              "      <td>...</td>\n",
              "      <td>...</td>\n",
              "      <td>...</td>\n",
              "      <td>...</td>\n",
              "      <td>...</td>\n",
              "    </tr>\n",
              "    <tr>\n",
              "      <th>13911</th>\n",
              "      <td>8.22</td>\n",
              "      <td>5.55</td>\n",
              "      <td>12</td>\n",
              "      <td>19</td>\n",
              "      <td>23</td>\n",
              "      <td>0.956072</td>\n",
              "    </tr>\n",
              "    <tr>\n",
              "      <th>13912</th>\n",
              "      <td>1.37</td>\n",
              "      <td>0.98</td>\n",
              "      <td>7</td>\n",
              "      <td>19</td>\n",
              "      <td>23</td>\n",
              "      <td>0.435926</td>\n",
              "    </tr>\n",
              "    <tr>\n",
              "      <th>13913</th>\n",
              "      <td>4.22</td>\n",
              "      <td>4.15</td>\n",
              "      <td>7</td>\n",
              "      <td>19</td>\n",
              "      <td>23</td>\n",
              "      <td>0.447609</td>\n",
              "    </tr>\n",
              "    <tr>\n",
              "      <th>13914</th>\n",
              "      <td>4.85</td>\n",
              "      <td>5.38</td>\n",
              "      <td>7</td>\n",
              "      <td>19</td>\n",
              "      <td>23</td>\n",
              "      <td>2.987416</td>\n",
              "    </tr>\n",
              "    <tr>\n",
              "      <th>13915</th>\n",
              "      <td>6.98</td>\n",
              "      <td>4.23</td>\n",
              "      <td>12</td>\n",
              "      <td>19</td>\n",
              "      <td>23</td>\n",
              "      <td>0.811894</td>\n",
              "    </tr>\n",
              "  </tbody>\n",
              "</table>\n",
              "<p>13916 rows × 6 columns</p>\n",
              "</div>"
            ],
            "text/plain": [
              "         ATA  api_eta  month  pickup_gu  hour  distance\n",
              "0      10.60     5.65     12          8     0  2.548743\n",
              "1       9.20     8.60     12          2     0  2.340836\n",
              "2      10.85    10.53     12          7     0  4.263972\n",
              "3       5.52     1.92      7         23     0  0.350467\n",
              "4       8.60     7.10      7         23     0  2.072178\n",
              "...      ...      ...    ...        ...   ...       ...\n",
              "13911   8.22     5.55     12         19    23  0.956072\n",
              "13912   1.37     0.98      7         19    23  0.435926\n",
              "13913   4.22     4.15      7         19    23  0.447609\n",
              "13914   4.85     5.38      7         19    23  2.987416\n",
              "13915   6.98     4.23     12         19    23  0.811894\n",
              "\n",
              "[13916 rows x 6 columns]"
            ]
          },
          "execution_count": 44,
          "metadata": {},
          "output_type": "execute_result"
        }
      ],
      "source": [
        "tada_eta"
      ]
    },
    {
      "cell_type": "markdown",
      "metadata": {
        "id": "n7G-ax8Huu82"
      },
      "source": [
        "#정규화- 했더니 약간 값이 이상하게 나옴...\n",
        "from sklearn.preprocessing import StandardScaler\n",
        "scaler = StandardScaler()\n",
        "scaler.fit(tada_eta[['ATA','api_eta', 'hour', 'distance']])\n",
        "tada_scaled= scaler.transform(tada_eta[['ATA','api_eta', 'hour', 'distance']])\n",
        "\n",
        "tada_eta_cat = tada_eta[['month', 'pickup_gu']]\n",
        "\n",
        "df_tada = pd.DataFrame(data=tada_scaled, columns=['ATA', 'api_eta', 'hour', 'distance'])\n",
        "\n",
        "\n",
        "df_tada = pd.concat([df_tada, tada_eta_cat], axis=1)\n",
        "df_tada"
      ]
    },
    {
      "cell_type": "markdown",
      "metadata": {
        "id": "CEUFTr5_uu85"
      },
      "source": [
        "#정규화 했을시 테스트셋, 트레인 셋 구분\n",
        "df_tada = df_tada.sample(frac=1, random_state=0).reset_index(drop=True)\n",
        "train = df_tada[:12000]\n",
        "test = df_tada[12000:]\n",
        "x_train = np.asarray(train.drop('ATA',1))\n",
        "y_train = np.asarray(train['ATA'])\n",
        "x_test = np.asarray(test.drop('ATA',1))\n",
        "y_test = np.asarray(test['ATA'])\n"
      ]
    },
    {
      "cell_type": "code",
      "execution_count": null,
      "metadata": {
        "id": "UD7qod73uu86"
      },
      "outputs": [],
      "source": [
        "#히스트그래디언트부스팅 모델 중 regressor 선택\n",
        "from sklearn import ensemble\n",
        "from sklearn.experimental import enable_hist_gradient_boosting\n",
        "from sklearn.ensemble import HistGradientBoostingRegressor\n",
        "hgbm_reg = sklearn.ensemble.HistGradientBoostingRegressor()"
      ]
    },
    {
      "cell_type": "code",
      "execution_count": null,
      "metadata": {
        "id": "MFxbCiQuuu87"
      },
      "outputs": [],
      "source": [
        "tada_eta = tada_eta.sample(frac=1, random_state=0).reset_index(drop=True)\n",
        "train = tada_eta[:12000]\n",
        "test = tada_eta[12000:]\n",
        "x_train = np.asarray(train.drop('ATA',1))\n",
        "y_train = np.asarray(train['ATA'])\n",
        "x_test = np.asarray(test.drop('ATA',1))\n",
        "y_test = np.asarray(test['ATA'])"
      ]
    },
    {
      "cell_type": "code",
      "execution_count": null,
      "metadata": {
        "id": "A7dKxzTZuu87"
      },
      "outputs": [],
      "source": [
        "#랜덤 서치로 트리 갯수, 트리 깊이, 잎의 최소 데이터 수, 학습률 등을 설정\n",
        "from sklearn.model_selection import RandomizedSearchCV\n",
        "n_estimators = [10,30,50,70,90,100,1000,10000]\n",
        "max_depth = [np.arange(1,20,3)]\n",
        "min_samples_leaf = [np.arange(1,20,3)]\n",
        "learning_rate = [0.001,0.005,0.01,0.05,0.1,0.5,0.7]\n",
        "random_grid = {'max_iter': [10,30,50,70,90,100,1000,10000],\n",
        "               'max_depth': np.arange(1,20,3),\n",
        "               'min_samples_leaf' : np.arange(1,20,3),\n",
        "               'learning_rate': [0.001,0.005,0.01,0.05,0.1,0.5,0.7]}"
      ]
    },
    {
      "cell_type": "code",
      "execution_count": null,
      "metadata": {
        "id": "A-epx5yquu88",
        "outputId": "733daa06-81ab-4289-eec9-526f644b8128"
      },
      "outputs": [
        {
          "name": "stdout",
          "output_type": "stream",
          "text": [
            "Fitting 5 folds for each of 50 candidates, totalling 250 fits\n"
          ]
        },
        {
          "data": {
            "text/plain": [
              "RandomizedSearchCV(cv=5, estimator=HistGradientBoostingRegressor(), n_iter=50,\n",
              "                   n_jobs=-1,\n",
              "                   param_distributions={'learning_rate': [0.001, 0.005, 0.01,\n",
              "                                                          0.05, 0.1, 0.5, 0.7],\n",
              "                                        'max_depth': array([ 1,  4,  7, 10, 13, 16, 19]),\n",
              "                                        'max_iter': [10, 30, 50, 70, 90, 100,\n",
              "                                                     1000, 10000],\n",
              "                                        'min_samples_leaf': array([ 1,  4,  7, 10, 13, 16, 19])},\n",
              "                   scoring='neg_mean_squared_error', verbose=1)"
            ]
          },
          "execution_count": 46,
          "metadata": {},
          "output_type": "execute_result"
        }
      ],
      "source": [
        "# 랜덤서치 모델 튜딩 후 fitting\n",
        "rnd_search = RandomizedSearchCV(hgbm_reg, param_distributions=random_grid, n_iter=50, cv=5, scoring='neg_mean_squared_error', verbose=1, n_jobs=-1)\n",
        "rnd_search.fit(x_train, y_train)"
      ]
    },
    {
      "cell_type": "code",
      "execution_count": null,
      "metadata": {
        "id": "2762bsEVuu88",
        "outputId": "9bcf6f8d-5665-4708-fbd4-b2147f8718ac"
      },
      "outputs": [
        {
          "name": "stdout",
          "output_type": "stream",
          "text": [
            "{'min_samples_leaf': 4, 'max_iter': 50, 'max_depth': 4, 'learning_rate': 0.1}\n"
          ]
        }
      ],
      "source": [
        "print(rnd_search.best_params_) # 가장 성능 좋은 파라미터 찾기"
      ]
    },
    {
      "cell_type": "code",
      "execution_count": null,
      "metadata": {
        "id": "PGdhOSw-uu88"
      },
      "outputs": [],
      "source": [
        "params = {'max_iter': 50,\n",
        "          'max_depth': 4,\n",
        "           'min_samples_leaf': 4,\n",
        "          'learning_rate': 0.1}"
      ]
    },
    {
      "cell_type": "code",
      "execution_count": null,
      "metadata": {
        "id": "d8_djEDzuu89"
      },
      "outputs": [],
      "source": [
        "hgbm_reg.fit(x_train, y_train)\n",
        "hgbm_reg.fit(x_test, y_test)\n",
        "mse = mean_squared_error(y_test, hgbm_reg.predict(x_test)) # 테스트 셋에 모델 피팅"
      ]
    },
    {
      "cell_type": "code",
      "execution_count": null,
      "metadata": {
        "id": "eQOoNq7fuu89",
        "outputId": "4570914c-fd82-41eb-c121-667d5a628750"
      },
      "outputs": [
        {
          "name": "stdout",
          "output_type": "stream",
          "text": [
            "The mean squared error (MSE) on test set: 4.1808\n",
            "The initial error of API ETA on test set: 13.7135\n"
          ]
        }
      ],
      "source": [
        "print(\"The mean squared error (MSE) on test set: {:.4f}\".format(mse))\n",
        "print(\"The initial error of API ETA on test set: {:.4f}\".format(mean_squared_error(y_test, x_test[:,0]) ))"
      ]
    },
    {
      "cell_type": "code",
      "execution_count": null,
      "metadata": {
        "id": "ZN7LJ5Hsuu8-",
        "outputId": "91721dd4-9f09-45ce-b7f9-41711f03a412"
      },
      "outputs": [
        {
          "data": {
            "text/plain": [
              "['api_eta', 'month', 'pickup_gu', 'hour', 'distance']"
            ]
          },
          "execution_count": 52,
          "metadata": {},
          "output_type": "execute_result"
        }
      ],
      "source": [
        "eta_features = [x for i,x in enumerate(tada_eta.columns) if i!=0]\n",
        "eta_features"
      ]
    },
    {
      "cell_type": "code",
      "execution_count": null,
      "metadata": {
        "id": "E-oF7R1Luu8-",
        "outputId": "f1d40e51-9707-48f4-9b25-9b279da49e4a"
      },
      "outputs": [
        {
          "ename": "AttributeError",
          "evalue": "'HistGradientBoostingRegressor' object has no attribute 'feature_importances_'",
          "output_type": "error",
          "traceback": [
            "\u001b[1;31m---------------------------------------------------------------------------\u001b[0m",
            "\u001b[1;31mAttributeError\u001b[0m                            Traceback (most recent call last)",
            "\u001b[1;32m<ipython-input-39-de89ce80e669>\u001b[0m in \u001b[0;36m<module>\u001b[1;34m\u001b[0m\n\u001b[1;32m----> 1\u001b[1;33m \u001b[0mfeature_importance\u001b[0m \u001b[1;33m=\u001b[0m \u001b[0mhgbm_reg\u001b[0m\u001b[1;33m.\u001b[0m\u001b[0mfeature_importances_\u001b[0m\u001b[1;33m\u001b[0m\u001b[1;33m\u001b[0m\u001b[0m\n\u001b[0m\u001b[0;32m      2\u001b[0m \u001b[0msorted_idx\u001b[0m \u001b[1;33m=\u001b[0m \u001b[0mnp\u001b[0m\u001b[1;33m.\u001b[0m\u001b[0margsort\u001b[0m\u001b[1;33m(\u001b[0m\u001b[0mfeature_importance\u001b[0m\u001b[1;33m)\u001b[0m\u001b[1;33m\u001b[0m\u001b[1;33m\u001b[0m\u001b[0m\n\u001b[0;32m      3\u001b[0m \u001b[0mpos\u001b[0m \u001b[1;33m=\u001b[0m \u001b[0mnp\u001b[0m\u001b[1;33m.\u001b[0m\u001b[0marange\u001b[0m\u001b[1;33m(\u001b[0m\u001b[0msorted_idx\u001b[0m\u001b[1;33m.\u001b[0m\u001b[0mshape\u001b[0m\u001b[1;33m[\u001b[0m\u001b[1;36m0\u001b[0m\u001b[1;33m]\u001b[0m\u001b[1;33m)\u001b[0m \u001b[1;33m+\u001b[0m \u001b[1;36m.5\u001b[0m\u001b[1;33m\u001b[0m\u001b[1;33m\u001b[0m\u001b[0m\n\u001b[0;32m      4\u001b[0m \u001b[0mplt\u001b[0m\u001b[1;33m.\u001b[0m\u001b[0mfigure\u001b[0m\u001b[1;33m(\u001b[0m\u001b[1;33m)\u001b[0m\u001b[1;33m\u001b[0m\u001b[1;33m\u001b[0m\u001b[0m\n\u001b[0;32m      5\u001b[0m \u001b[0mplt\u001b[0m\u001b[1;33m.\u001b[0m\u001b[0mbarh\u001b[0m\u001b[1;33m(\u001b[0m\u001b[0mpos\u001b[0m\u001b[1;33m,\u001b[0m \u001b[0mfeature_importance\u001b[0m\u001b[1;33m[\u001b[0m\u001b[0msorted_idx\u001b[0m\u001b[1;33m]\u001b[0m\u001b[1;33m,\u001b[0m \u001b[0malign\u001b[0m\u001b[1;33m=\u001b[0m\u001b[1;34m'center'\u001b[0m\u001b[1;33m)\u001b[0m\u001b[1;33m\u001b[0m\u001b[1;33m\u001b[0m\u001b[0m\n",
            "\u001b[1;31mAttributeError\u001b[0m: 'HistGradientBoostingRegressor' object has no attribute 'feature_importances_'"
          ]
        }
      ],
      "source": [
        "feature_importance = hgbm_reg.feature_importances_\n",
        "sorted_idx = np.argsort(feature_importance)\n",
        "pos = np.arange(sorted_idx.shape[0]) + .5\n",
        "plt.figure()\n",
        "plt.barh(pos, feature_importance[sorted_idx], align='center')\n",
        "plt.yticks(pos, np.array(eta_features)[sorted_idx])\n",
        "plt.title('Feature Importance (MDI)')\n",
        "plt.show()"
      ]
    }
  ],
  "metadata": {
    "interpreter": {
      "hash": "bdb824dc0205b68452fe686aef97f5a1033e37c4bbdb602bf5668ba502aa9258"
    },
    "kernelspec": {
      "display_name": "Python 3.8.8 ('base')",
      "language": "python",
      "name": "python3"
    },
    "language_info": {
      "codemirror_mode": {
        "name": "ipython",
        "version": 3
      },
      "file_extension": ".py",
      "mimetype": "text/x-python",
      "name": "python",
      "nbconvert_exporter": "python",
      "pygments_lexer": "ipython3",
      "version": "3.8.8"
    },
    "orig_nbformat": 4,
    "colab": {
      "name": "first work.ipynb",
      "provenance": [],
      "include_colab_link": true
    }
  },
  "nbformat": 4,
  "nbformat_minor": 0
}